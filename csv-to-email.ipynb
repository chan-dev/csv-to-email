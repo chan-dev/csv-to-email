{
 "metadata": {
  "language_info": {
   "codemirror_mode": {
    "name": "ipython",
    "version": 3
   },
   "file_extension": ".py",
   "mimetype": "text/x-python",
   "name": "python",
   "nbconvert_exporter": "python",
   "pygments_lexer": "ipython3",
   "version": "3.6.9-final"
  },
  "orig_nbformat": 2,
  "kernelspec": {
   "name": "python36964bitvenvvenv72b48f3b5b354c7ead5be33f6f215dbc",
   "display_name": "Python 3.6.9 64-bit ('venv': venv)"
  }
 },
 "nbformat": 4,
 "nbformat_minor": 2,
 "cells": [
  {
   "cell_type": "code",
   "execution_count": 23,
   "metadata": {},
   "outputs": [],
   "source": [
    "import sys\n",
    "import pandas as pd\n",
    "import smtplib, ssl\n",
    "import mimetypes\n",
    "from getpass import getpass\n",
    "from email.mime.multipart import MIMEMultipart\n",
    "from email import encoders\n",
    "from email.message import Message\n",
    "from email.mime.audio import MIMEAudio\n",
    "from email.mime.base import MIMEBase\n",
    "from email.mime.image import MIMEImage\n",
    "from email.mime.text import MIMEText"
   ]
  },
  {
   "cell_type": "code",
   "execution_count": 24,
   "metadata": {},
   "outputs": [
    {
     "output_type": "execute_result",
     "data": {
      "text/plain": "       country  beer_servings  spirit_servings  wine_servings  \\\n0  Afghanistan              0                0              0   \n1      Albania             89              132             54   \n2      Algeria             25                0             14   \n3      Andorra            245              138            312   \n4       Angola            217               57             45   \n\n   total_litres_of_pure_alcohol continent  \n0                           0.0      Asia  \n1                           4.9    Europe  \n2                           0.7    Africa  \n3                          12.4    Europe  \n4                           5.9    Africa  ",
      "text/html": "<div>\n<style scoped>\n    .dataframe tbody tr th:only-of-type {\n        vertical-align: middle;\n    }\n\n    .dataframe tbody tr th {\n        vertical-align: top;\n    }\n\n    .dataframe thead th {\n        text-align: right;\n    }\n</style>\n<table border=\"1\" class=\"dataframe\">\n  <thead>\n    <tr style=\"text-align: right;\">\n      <th></th>\n      <th>country</th>\n      <th>beer_servings</th>\n      <th>spirit_servings</th>\n      <th>wine_servings</th>\n      <th>total_litres_of_pure_alcohol</th>\n      <th>continent</th>\n    </tr>\n  </thead>\n  <tbody>\n    <tr>\n      <th>0</th>\n      <td>Afghanistan</td>\n      <td>0</td>\n      <td>0</td>\n      <td>0</td>\n      <td>0.0</td>\n      <td>Asia</td>\n    </tr>\n    <tr>\n      <th>1</th>\n      <td>Albania</td>\n      <td>89</td>\n      <td>132</td>\n      <td>54</td>\n      <td>4.9</td>\n      <td>Europe</td>\n    </tr>\n    <tr>\n      <th>2</th>\n      <td>Algeria</td>\n      <td>25</td>\n      <td>0</td>\n      <td>14</td>\n      <td>0.7</td>\n      <td>Africa</td>\n    </tr>\n    <tr>\n      <th>3</th>\n      <td>Andorra</td>\n      <td>245</td>\n      <td>138</td>\n      <td>312</td>\n      <td>12.4</td>\n      <td>Europe</td>\n    </tr>\n    <tr>\n      <th>4</th>\n      <td>Angola</td>\n      <td>217</td>\n      <td>57</td>\n      <td>45</td>\n      <td>5.9</td>\n      <td>Africa</td>\n    </tr>\n  </tbody>\n</table>\n</div>"
     },
     "metadata": {},
     "execution_count": 24
    }
   ],
   "source": [
    "drinks = pd.read_csv('http://bit.ly/drinksbycountry')\n",
    "drinks.head()"
   ]
  },
  {
   "cell_type": "code",
   "execution_count": 25,
   "metadata": {},
   "outputs": [
    {
     "output_type": "execute_result",
     "data": {
      "text/plain": "         country  beer_servings  spirit_servings  wine_servings  \\\n0    Afghanistan              0                0              0   \n1        Albania             89              132             54   \n2        Algeria             25                0             14   \n3        Andorra            245              138            312   \n4         Angola            217               57             45   \n..           ...            ...              ...            ...   \n188    Venezuela            333              100              3   \n189      Vietnam            111                2              1   \n190        Yemen              6                0              0   \n191       Zambia             32               19              4   \n192     Zimbabwe             64               18              4   \n\n     total_litres_of_pure_alcohol  \n0                             0.0  \n1                             4.9  \n2                             0.7  \n3                            12.4  \n4                             5.9  \n..                            ...  \n188                           7.7  \n189                           2.0  \n190                           0.1  \n191                           2.5  \n192                           4.7  \n\n[193 rows x 5 columns]",
      "text/html": "<div>\n<style scoped>\n    .dataframe tbody tr th:only-of-type {\n        vertical-align: middle;\n    }\n\n    .dataframe tbody tr th {\n        vertical-align: top;\n    }\n\n    .dataframe thead th {\n        text-align: right;\n    }\n</style>\n<table border=\"1\" class=\"dataframe\">\n  <thead>\n    <tr style=\"text-align: right;\">\n      <th></th>\n      <th>country</th>\n      <th>beer_servings</th>\n      <th>spirit_servings</th>\n      <th>wine_servings</th>\n      <th>total_litres_of_pure_alcohol</th>\n    </tr>\n  </thead>\n  <tbody>\n    <tr>\n      <th>0</th>\n      <td>Afghanistan</td>\n      <td>0</td>\n      <td>0</td>\n      <td>0</td>\n      <td>0.0</td>\n    </tr>\n    <tr>\n      <th>1</th>\n      <td>Albania</td>\n      <td>89</td>\n      <td>132</td>\n      <td>54</td>\n      <td>4.9</td>\n    </tr>\n    <tr>\n      <th>2</th>\n      <td>Algeria</td>\n      <td>25</td>\n      <td>0</td>\n      <td>14</td>\n      <td>0.7</td>\n    </tr>\n    <tr>\n      <th>3</th>\n      <td>Andorra</td>\n      <td>245</td>\n      <td>138</td>\n      <td>312</td>\n      <td>12.4</td>\n    </tr>\n    <tr>\n      <th>4</th>\n      <td>Angola</td>\n      <td>217</td>\n      <td>57</td>\n      <td>45</td>\n      <td>5.9</td>\n    </tr>\n    <tr>\n      <th>...</th>\n      <td>...</td>\n      <td>...</td>\n      <td>...</td>\n      <td>...</td>\n      <td>...</td>\n    </tr>\n    <tr>\n      <th>188</th>\n      <td>Venezuela</td>\n      <td>333</td>\n      <td>100</td>\n      <td>3</td>\n      <td>7.7</td>\n    </tr>\n    <tr>\n      <th>189</th>\n      <td>Vietnam</td>\n      <td>111</td>\n      <td>2</td>\n      <td>1</td>\n      <td>2.0</td>\n    </tr>\n    <tr>\n      <th>190</th>\n      <td>Yemen</td>\n      <td>6</td>\n      <td>0</td>\n      <td>0</td>\n      <td>0.1</td>\n    </tr>\n    <tr>\n      <th>191</th>\n      <td>Zambia</td>\n      <td>32</td>\n      <td>19</td>\n      <td>4</td>\n      <td>2.5</td>\n    </tr>\n    <tr>\n      <th>192</th>\n      <td>Zimbabwe</td>\n      <td>64</td>\n      <td>18</td>\n      <td>4</td>\n      <td>4.7</td>\n    </tr>\n  </tbody>\n</table>\n<p>193 rows × 5 columns</p>\n</div>"
     },
     "metadata": {},
     "execution_count": 25
    }
   ],
   "source": [
    "# Approach #1 on deleting column:\n",
    "del drinks['continent']"
   ]
  },
  {
   "cell_type": "code",
   "execution_count": 26,
   "metadata": {},
   "outputs": [
    {
     "output_type": "execute_result",
     "data": {
      "text/plain": "         country  beer_servings  spirit_servings  wine_servings\n0    Afghanistan              0                0              0\n1        Albania             89              132             54\n2        Algeria             25                0             14\n3        Andorra            245              138            312\n4         Angola            217               57             45\n..           ...            ...              ...            ...\n188    Venezuela            333              100              3\n189      Vietnam            111                2              1\n190        Yemen              6                0              0\n191       Zambia             32               19              4\n192     Zimbabwe             64               18              4\n\n[193 rows x 4 columns]",
      "text/html": "<div>\n<style scoped>\n    .dataframe tbody tr th:only-of-type {\n        vertical-align: middle;\n    }\n\n    .dataframe tbody tr th {\n        vertical-align: top;\n    }\n\n    .dataframe thead th {\n        text-align: right;\n    }\n</style>\n<table border=\"1\" class=\"dataframe\">\n  <thead>\n    <tr style=\"text-align: right;\">\n      <th></th>\n      <th>country</th>\n      <th>beer_servings</th>\n      <th>spirit_servings</th>\n      <th>wine_servings</th>\n    </tr>\n  </thead>\n  <tbody>\n    <tr>\n      <th>0</th>\n      <td>Afghanistan</td>\n      <td>0</td>\n      <td>0</td>\n      <td>0</td>\n    </tr>\n    <tr>\n      <th>1</th>\n      <td>Albania</td>\n      <td>89</td>\n      <td>132</td>\n      <td>54</td>\n    </tr>\n    <tr>\n      <th>2</th>\n      <td>Algeria</td>\n      <td>25</td>\n      <td>0</td>\n      <td>14</td>\n    </tr>\n    <tr>\n      <th>3</th>\n      <td>Andorra</td>\n      <td>245</td>\n      <td>138</td>\n      <td>312</td>\n    </tr>\n    <tr>\n      <th>4</th>\n      <td>Angola</td>\n      <td>217</td>\n      <td>57</td>\n      <td>45</td>\n    </tr>\n    <tr>\n      <th>...</th>\n      <td>...</td>\n      <td>...</td>\n      <td>...</td>\n      <td>...</td>\n    </tr>\n    <tr>\n      <th>188</th>\n      <td>Venezuela</td>\n      <td>333</td>\n      <td>100</td>\n      <td>3</td>\n    </tr>\n    <tr>\n      <th>189</th>\n      <td>Vietnam</td>\n      <td>111</td>\n      <td>2</td>\n      <td>1</td>\n    </tr>\n    <tr>\n      <th>190</th>\n      <td>Yemen</td>\n      <td>6</td>\n      <td>0</td>\n      <td>0</td>\n    </tr>\n    <tr>\n      <th>191</th>\n      <td>Zambia</td>\n      <td>32</td>\n      <td>19</td>\n      <td>4</td>\n    </tr>\n    <tr>\n      <th>192</th>\n      <td>Zimbabwe</td>\n      <td>64</td>\n      <td>18</td>\n      <td>4</td>\n    </tr>\n  </tbody>\n</table>\n<p>193 rows × 4 columns</p>\n</div>"
     },
     "metadata": {},
     "execution_count": 26
    }
   ],
   "source": [
    "# Approach #2 on deleting column:\n",
    "drinks.drop(columns=['total_litres_of_pure_alcohol'], inplace=True)"
   ]
  },
  {
   "cell_type": "code",
   "execution_count": 27,
   "metadata": {},
   "outputs": [],
   "source": [
    "# save the transformed dataframe to a new csv file\n",
    "fileToSend = \"attachment.csv\"\n",
    "csv_data = drinks.to_csv(fileToSend, index=False)"
   ]
  },
  {
   "cell_type": "code",
   "execution_count": 28,
   "metadata": {},
   "outputs": [],
   "source": [
    "emailfrom = \"app.tester.031490@gmail.com\"\n",
    "emailto = \"chan.dev.031490@gmail.com\"\n",
    "username = \"app.tester.031490@gmail.com\"\n",
    "port = 465  # For SSL\n",
    "password = getpass(\"Type your password and press enter: \")\n",
    "\n",
    "context = ssl.create_default_context()"
   ]
  },
  {
   "cell_type": "code",
   "execution_count": 29,
   "metadata": {},
   "outputs": [],
   "source": [
    "# Setup message\n",
    "msg = MIMEMultipart()\n",
    "msg[\"From\"] = emailfrom\n",
    "msg[\"To\"] = emailto\n",
    "msg[\"Subject\"] = \"This is an email from a python script\"\n",
    "msg.preamble = \"Great\"\n",
    "\n",
    "content = f\"\"\"\n",
    "This is a sample email content\n",
    "\"\"\"\n",
    "\n",
    "msg.attach(MIMEText(content, \"plain\"))"
   ]
  },
  {
   "cell_type": "code",
   "execution_count": 30,
   "metadata": {
    "tags": []
   },
   "outputs": [
    {
     "output_type": "stream",
     "name": "stdout",
     "text": "text/csv\nNone\n"
    }
   ],
   "source": [
    "ctype, encoding = mimetypes.guess_type(fileToSend)\n",
    "if ctype is None or encoding is not None:\n",
    "    ctype = \"application/octet-stream\"\n",
    "\n",
    "print(ctype)\n",
    "print(encoding)\n"
   ]
  },
  {
   "cell_type": "code",
   "execution_count": 31,
   "metadata": {},
   "outputs": [],
   "source": [
    "maintype, subtype = ctype.split(\"/\", 1)\n",
    "\n",
    "if maintype == \"text\":\n",
    "    fp = open(fileToSend)\n",
    "    # Note: we should handle calculating the charset\n",
    "    attachment = MIMEText(fp.read(), _subtype=subtype)\n",
    "    fp.close()\n",
    "elif maintype == \"image\":\n",
    "    fp = open(fileToSend, \"rb\")\n",
    "    attachment = MIMEImage(fp.read(), _subtype=subtype)\n",
    "    fp.close()\n",
    "elif maintype == \"audio\":\n",
    "    fp = open(fileToSend, \"rb\")\n",
    "    attachment = MIMEAudio(fp.read(), _subtype=subtype)\n",
    "    fp.close()\n",
    "else:\n",
    "    fp = open(fileToSend, \"rb\")\n",
    "    # should we replace it with MIMEApplication?\n",
    "    attachment = MIMEBase(maintype, subtype)\n",
    "    attachment.set_payload(fp.read())\n",
    "    fp.close()\n",
    "    encoders.encode_base64(attachment)\n",
    "attachment.add_header(\"Content-Disposition\", \"attachment\", filename=fileToSend)\n",
    "msg.attach(attachment)"
   ]
  },
  {
   "cell_type": "code",
   "execution_count": 32,
   "metadata": {
    "tags": []
   },
   "outputs": [
    {
     "output_type": "stream",
     "name": "stdout",
     "text": "Email sent\n"
    }
   ],
   "source": [
    "with smtplib.SMTP_SSL(\"smtp.gmail.com\", port, context=context) as server:\n",
    "    server.login(username,password)\n",
    "    server.sendmail(emailfrom, emailto, msg.as_string())\n",
    "    print('Email sent')"
   ]
  }
 ]
}